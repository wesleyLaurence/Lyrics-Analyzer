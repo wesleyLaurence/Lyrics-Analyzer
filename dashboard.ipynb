{
 "cells": [
  {
   "cell_type": "markdown",
   "metadata": {},
   "source": [
    "## Lyrics Analyzer"
   ]
  },
  {
   "cell_type": "code",
   "execution_count": 6,
   "metadata": {},
   "outputs": [
    {
     "name": "stdout",
     "output_type": "stream",
     "text": [
      "Enter Genius API Key: ········\n"
     ]
    }
   ],
   "source": [
    "import pandas as pd\n",
    "from lyrics_tool import Lyrics_Tool\n",
    "l = Lyrics_Tool()"
   ]
  },
  {
   "cell_type": "code",
   "execution_count": 7,
   "metadata": {},
   "outputs": [
    {
     "name": "stdout",
     "output_type": "stream",
     "text": [
      "User ID: wesley\n",
      "Password: ········\n"
     ]
    }
   ],
   "source": [
    "# connect to MySQL database\n",
    "l.connect()"
   ]
  },
  {
   "cell_type": "code",
   "execution_count": 8,
   "metadata": {},
   "outputs": [],
   "source": [
    "song = 'happy'\n",
    "artist = 'pharrell williams'"
   ]
  },
  {
   "cell_type": "code",
   "execution_count": 14,
   "metadata": {},
   "outputs": [
    {
     "name": "stdout",
     "output_type": "stream",
     "text": [
      "Searching for \"happy\" by pharrell williams...\n",
      "Done.\n",
      "[Produced by Pharrell Williams]\n",
      "\n",
      "[Verse 1]\n",
      "It might seem crazy what I'm 'bout to say\n",
      "Sunshine she's here, you can take a break\n",
      "I'm a hot air balloon that could go to space\n",
      "With the air, like I don't care, baby, by the way\n",
      "\n",
      "[Chorus]\n",
      "(Because I'm happy)\n",
      "Clap along if you feel like a room without a roof\n",
      "(Because I'm happy)\n",
      "Clap along if you feel like happiness is the truth\n",
      "(Because I'm happy)\n",
      "Clap along if you know what happiness is to you\n",
      "(Because I'm happy)\n",
      "Clap along if you feel like that's what you wanna do\n",
      "\n",
      "[Verse 2]\n",
      "Here come bad news, talking this and that (Yeah!)\n",
      "Well, give me all you got, don't hold it back (Yeah!)\n",
      "Well, I should probably warn ya, I'll be just fine (Yeah!)\n",
      "No offense to you, don’t waste your time, here's why\n",
      "\n",
      "[Chorus]\n",
      "(Because I'm happy)\n",
      "Clap along if you feel like a room without a roof\n",
      "(Because I'm happy)\n",
      "Clap along if you feel like happiness is the truth\n",
      "(Because I'm happy)\n",
      "Clap along if you know what happiness is to you\n",
      "(Because I'm happy)\n",
      "Clap along if you feel like that's what you wanna do\n",
      "\n",
      "[Bridge]\n",
      "Bring me down\n",
      "Can't nothing bring me down\n",
      "My level's too high to bring me down\n",
      "Can't nothing bring me down, I said\n",
      "Bring me down\n",
      "Can't nothing bring me down\n",
      "My level's too high to bring me down\n",
      "Can't nothing bring me down, I said\n",
      "\n",
      "[Chorus]\n",
      "(Because I'm happy)\n",
      "Clap along if you feel like a room without a roof\n",
      "(Because I'm happy)\n",
      "Clap along if you feel like happiness is the truth\n",
      "(Because I'm happy)\n",
      "Clap along if you know what happiness is to you\n",
      "(Because I'm happy)\n",
      "Clap along if you feel like that's what you wanna do\n",
      "(Because I'm happy)\n",
      "Clap along if you feel like a room without a roof\n",
      "(Because I'm happy)\n",
      "Clap along if you feel like happiness is the truth\n",
      "(Because I'm happy)\n",
      "Clap along if you know what happiness is to you\n",
      "(Because I'm happy)\n",
      "Clap along if you feel like that's what you wanna do\n",
      "\n",
      "[Bridge]\n",
      "Bring me down\n",
      "Can't nothing bring me down\n",
      "My level's too high to bring me down\n",
      "Can't nothing bring me down, I said...\n",
      "\n",
      "[Chorus]\n",
      "(Because I'm happy)\n",
      "Clap along if you feel like a room without a roof\n",
      "(Because I'm happy)\n",
      "Clap along if you feel like happiness is the truth\n",
      "(Because I'm happy)\n",
      "Clap along if you know what happiness is to you\n",
      "(Because I'm happy)\n",
      "Clap along if you feel like that's what you wanna do\n",
      "(Because I'm happy)\n",
      "Clap along if you feel like a room without a roof\n",
      "(Because I'm happy)\n",
      "Clap along if you feel like happiness is the truth\n",
      "(Because I'm happy)\n",
      "Clap along if you know what happiness is to you\n",
      "(Because I'm happy)\n",
      "Clap along if you feel like that's what you wanna do\n"
     ]
    }
   ],
   "source": [
    "l.show_lyrics(song,artist)"
   ]
  },
  {
   "cell_type": "code",
   "execution_count": 9,
   "metadata": {},
   "outputs": [
    {
     "name": "stdout",
     "output_type": "stream",
     "text": [
      "Searching for \"happy\" by pharrell williams...\n",
      "Done.\n",
      "\n",
      "Clean lyrics\n"
     ]
    },
    {
     "data": {
      "text/plain": [
       "True"
      ]
     },
     "execution_count": 9,
     "metadata": {},
     "output_type": "execute_result"
    }
   ],
   "source": [
    "# check if song lyrics contain explicit words and add info to database\n",
    "l.vet(song,artist)"
   ]
  },
  {
   "cell_type": "code",
   "execution_count": 11,
   "metadata": {},
   "outputs": [
    {
     "data": {
      "text/html": [
       "<div>\n",
       "<style scoped>\n",
       "    .dataframe tbody tr th:only-of-type {\n",
       "        vertical-align: middle;\n",
       "    }\n",
       "\n",
       "    .dataframe tbody tr th {\n",
       "        vertical-align: top;\n",
       "    }\n",
       "\n",
       "    .dataframe thead th {\n",
       "        text-align: right;\n",
       "    }\n",
       "</style>\n",
       "<table border=\"1\" class=\"dataframe\">\n",
       "  <thead>\n",
       "    <tr style=\"text-align: right;\">\n",
       "      <th></th>\n",
       "      <th>Song</th>\n",
       "      <th>Artist</th>\n",
       "      <th>Clean</th>\n",
       "    </tr>\n",
       "    <tr>\n",
       "      <th>SongID</th>\n",
       "      <th></th>\n",
       "      <th></th>\n",
       "      <th></th>\n",
       "    </tr>\n",
       "  </thead>\n",
       "  <tbody>\n",
       "    <tr>\n",
       "      <th>1</th>\n",
       "      <td>God's Plan</td>\n",
       "      <td>Drake</td>\n",
       "      <td>0</td>\n",
       "    </tr>\n",
       "    <tr>\n",
       "      <th>2</th>\n",
       "      <td>SAD!</td>\n",
       "      <td>XXXTENTACION</td>\n",
       "      <td>0</td>\n",
       "    </tr>\n",
       "    <tr>\n",
       "      <th>3</th>\n",
       "      <td>rockstar</td>\n",
       "      <td>Post Malone</td>\n",
       "      <td>0</td>\n",
       "    </tr>\n",
       "    <tr>\n",
       "      <th>4</th>\n",
       "      <td>Psycho</td>\n",
       "      <td>Post Malone</td>\n",
       "      <td>0</td>\n",
       "    </tr>\n",
       "    <tr>\n",
       "      <th>5</th>\n",
       "      <td>In My Feelings</td>\n",
       "      <td>Drake</td>\n",
       "      <td>0</td>\n",
       "    </tr>\n",
       "    <tr>\n",
       "      <th>...</th>\n",
       "      <td>...</td>\n",
       "      <td>...</td>\n",
       "      <td>...</td>\n",
       "    </tr>\n",
       "    <tr>\n",
       "      <th>2392</th>\n",
       "      <td>No Brainer</td>\n",
       "      <td>DJ Khaled</td>\n",
       "      <td>0</td>\n",
       "    </tr>\n",
       "    <tr>\n",
       "      <th>2393</th>\n",
       "      <td>Nothing Breaks Like a Heart</td>\n",
       "      <td>Mark Ronson</td>\n",
       "      <td>1</td>\n",
       "    </tr>\n",
       "    <tr>\n",
       "      <th>2394</th>\n",
       "      <td>Kills You Slowly</td>\n",
       "      <td>The Chainsmokers</td>\n",
       "      <td>0</td>\n",
       "    </tr>\n",
       "    <tr>\n",
       "      <th>2402</th>\n",
       "      <td>language</td>\n",
       "      <td>porter robinson</td>\n",
       "      <td>1</td>\n",
       "    </tr>\n",
       "    <tr>\n",
       "      <th>2403</th>\n",
       "      <td>happy</td>\n",
       "      <td>pharrell williams</td>\n",
       "      <td>1</td>\n",
       "    </tr>\n",
       "  </tbody>\n",
       "</table>\n",
       "<p>2396 rows × 3 columns</p>\n",
       "</div>"
      ],
      "text/plain": [
       "                               Song             Artist  Clean\n",
       "SongID                                                       \n",
       "1                        God's Plan              Drake      0\n",
       "2                              SAD!       XXXTENTACION      0\n",
       "3                          rockstar        Post Malone      0\n",
       "4                            Psycho        Post Malone      0\n",
       "5                    In My Feelings              Drake      0\n",
       "...                             ...                ...    ...\n",
       "2392                     No Brainer          DJ Khaled      0\n",
       "2393    Nothing Breaks Like a Heart        Mark Ronson      1\n",
       "2394               Kills You Slowly   The Chainsmokers      0\n",
       "2402                       language    porter robinson      1\n",
       "2403                          happy  pharrell williams      1\n",
       "\n",
       "[2396 rows x 3 columns]"
      ]
     },
     "execution_count": 11,
     "metadata": {},
     "output_type": "execute_result"
    }
   ],
   "source": [
    "# show data from clean lyrics table\n",
    "l.data()"
   ]
  },
  {
   "cell_type": "code",
   "execution_count": 12,
   "metadata": {},
   "outputs": [
    {
     "data": {
      "image/png": "[encoded data removed]",
      "text/plain": [
       "<Figure size 432x288 with 1 Axes>"
      ]
     },
     "metadata": {
      "needs_background": "light"
     },
     "output_type": "display_data"
    }
   ],
   "source": [
    "# visualize \n",
    "l.dashboard()"
   ]
  },
  {
   "cell_type": "code",
   "execution_count": 15,
   "metadata": {},
   "outputs": [
    {
     "name": "stdout",
     "output_type": "stream",
     "text": [
      "Searching for \"happy\" by pharrell williams...\n",
      "Done.\n"
     ]
    },
    {
     "data": {
      "text/html": [
       "<div>\n",
       "<style scoped>\n",
       "    .dataframe tbody tr th:only-of-type {\n",
       "        vertical-align: middle;\n",
       "    }\n",
       "\n",
       "    .dataframe tbody tr th {\n",
       "        vertical-align: top;\n",
       "    }\n",
       "\n",
       "    .dataframe thead th {\n",
       "        text-align: right;\n",
       "    }\n",
       "</style>\n",
       "<table border=\"1\" class=\"dataframe\">\n",
       "  <thead>\n",
       "    <tr style=\"text-align: right;\">\n",
       "      <th></th>\n",
       "      <th>count</th>\n",
       "    </tr>\n",
       "    <tr>\n",
       "      <th>word</th>\n",
       "      <th></th>\n",
       "    </tr>\n",
       "  </thead>\n",
       "  <tbody>\n",
       "    <tr>\n",
       "      <th>you</th>\n",
       "      <td>39</td>\n",
       "    </tr>\n",
       "    <tr>\n",
       "      <th>im</th>\n",
       "      <td>26</td>\n",
       "    </tr>\n",
       "    <tr>\n",
       "      <th>clap</th>\n",
       "      <td>24</td>\n",
       "    </tr>\n",
       "    <tr>\n",
       "      <th>if</th>\n",
       "      <td>24</td>\n",
       "    </tr>\n",
       "    <tr>\n",
       "      <th>along</th>\n",
       "      <td>24</td>\n",
       "    </tr>\n",
       "    <tr>\n",
       "      <th>happy</th>\n",
       "      <td>24</td>\n",
       "    </tr>\n",
       "    <tr>\n",
       "      <th>because</th>\n",
       "      <td>24</td>\n",
       "    </tr>\n",
       "    <tr>\n",
       "      <th>like</th>\n",
       "      <td>19</td>\n",
       "    </tr>\n",
       "    <tr>\n",
       "      <th>feel</th>\n",
       "      <td>18</td>\n",
       "    </tr>\n",
       "    <tr>\n",
       "      <th>what</th>\n",
       "      <td>13</td>\n",
       "    </tr>\n",
       "    <tr>\n",
       "      <th>me</th>\n",
       "      <td>13</td>\n",
       "    </tr>\n",
       "    <tr>\n",
       "      <th>happiness</th>\n",
       "      <td>12</td>\n",
       "    </tr>\n",
       "    <tr>\n",
       "      <th>bring</th>\n",
       "      <td>12</td>\n",
       "    </tr>\n",
       "    <tr>\n",
       "      <th>is</th>\n",
       "      <td>12</td>\n",
       "    </tr>\n",
       "    <tr>\n",
       "      <th>down</th>\n",
       "      <td>12</td>\n",
       "    </tr>\n",
       "  </tbody>\n",
       "</table>\n",
       "</div>"
      ],
      "text/plain": [
       "           count\n",
       "word            \n",
       "you           39\n",
       "im            26\n",
       "clap          24\n",
       "if            24\n",
       "along         24\n",
       "happy         24\n",
       "because       24\n",
       "like          19\n",
       "feel          18\n",
       "what          13\n",
       "me            13\n",
       "happiness     12\n",
       "bring         12\n",
       "is            12\n",
       "down          12"
      ]
     },
     "execution_count": 15,
     "metadata": {},
     "output_type": "execute_result"
    }
   ],
   "source": [
    "# get unique words and count\n",
    "data = l.unique_word_count(song,artist)\n",
    "\n",
    "# show 15 most common words in song\n",
    "data.head(15)"
   ]
  },
  {
   "cell_type": "code",
   "execution_count": 16,
   "metadata": {},
   "outputs": [
    {
     "data": {
      "text/plain": [
       "2396"
      ]
     },
     "execution_count": 16,
     "metadata": {},
     "output_type": "execute_result"
    }
   ],
   "source": [
    "# total entires in database\n",
    "df = l.data()\n",
    "len(df)"
   ]
  },
  {
   "cell_type": "code",
   "execution_count": 17,
   "metadata": {},
   "outputs": [
    {
     "data": {
      "text/plain": [
       "Artist\n",
       "Katy Perry          23\n",
       "Drake               23\n",
       "The Chainsmokers    20\n",
       "Ed Sheeran          20\n",
       "Rihanna             17\n",
       "Name: Clean, dtype: int64"
      ]
     },
     "execution_count": 17,
     "metadata": {},
     "output_type": "execute_result"
    }
   ],
   "source": [
    "# top five artists in database\n",
    "df.groupby(['Artist']).count()['Clean'].sort_values(ascending=False).head()"
   ]
  },
  {
   "cell_type": "code",
   "execution_count": 18,
   "metadata": {},
   "outputs": [
    {
     "name": "stdout",
     "output_type": "stream",
     "text": [
      "64.27 % clean lyrics\n"
     ]
    }
   ],
   "source": [
    "# percentage of songs in database with clean lyrics\n",
    "clean_values = df['Clean'].value_counts()[1] \n",
    "clean_percent = (clean_values / df['Clean'].value_counts().sum()*100).round(2)\n",
    "print(str(clean_percent)+\" % clean lyrics\")"
   ]
  }
 ],
 "metadata": {
  "kernelspec": {
   "display_name": "Python 3",
   "language": "python",
   "name": "python3"
  },
  "language_info": {
   "codemirror_mode": {
    "name": "ipython",
    "version": 3
   },
   "file_extension": ".py",
   "mimetype": "text/x-python",
   "name": "python",
   "nbconvert_exporter": "python",
   "pygments_lexer": "ipython3",
   "version": "3.6.10"
  }
 },
 "nbformat": 4,
 "nbformat_minor": 4
}
